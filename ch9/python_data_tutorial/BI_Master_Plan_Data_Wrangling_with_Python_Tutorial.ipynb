{
 "cells": [
  {
   "cell_type": "markdown",
   "metadata": {},
   "source": [
    "## Data Wrangling Tutorial with \"Data Science Job Postings\" Dataset\n",
    "\n",
    "In this tutorial, we will walk through the process of cleaning the \"Data Science Job Postings\" dataset. The dataset contains information about job postings related to data science scraped from the website Glassdoor.  The job postings were pulled from Glassdoor sometime in 2021 and are available in a CSV file on Kaggle via the link below.  More information on the data set can be found on Kaggle.\n",
    "\n",
    "https://www.kaggle.com/datasets/rashikrahmanpritom/data-science-job-posting-on-glassdoor?resource=download\n",
    "\n",
    "Here is a summary of the techniques covered in the notebook: \n",
    "\n",
    "\n",
    "**1. Importing Libraries and Loading Data:**\n",
    "\n",
    "   - The notebook begins by importing the necessary libraries, such as pandas and numpy, for data manipulation and analysis. \n",
    "\n",
    "   - The data is loaded into a pandas DataFrame using the `read_csv()` function. \n",
    "\n",
    "  \n",
    "\n",
    "**2. Exploratory Data Analysis (EDA):** \n",
    "\n",
    "   - The EDA section explores the dataset to gain insights into its structure and content. \n",
    "\n",
    "   - Techniques such as checking the dimensions of the dataset, examining the column names and data types, and viewing the first few rows of data are employed. \n",
    "\n",
    "   - Descriptive statistics, including count, mean, min, & max are calculated for numerical columns. \n",
    "\n",
    "   - Visualizations, such as histograms, box plots, and scatter plots, are used to analyze the distribution and relationships between variables. \n",
    "\n",
    "  \n",
    "\n",
    "**3. Handling Missing Values:** \n",
    "\n",
    "   - The notebook demonstrates various methods to handle missing values in the dataset.\n",
    "\n",
    "   - Missing values are addressed through techniques like dropping rows/columns, replacing with static values, and using interpolation techniques. \n",
    "\n",
    "  \n",
    "\n",
    "**4. Handling Duplicate Data:** \n",
    "\n",
    "   - The notebook discusses how to identify and handle duplicate data in the dataset. \n",
    "\n",
    "   - Techniques such as identifying duplicate rows using `duplicated()` function, counting the number of duplicates, and removing duplicate rows using `drop_duplicates()` function are utilized. \n",
    "\n",
    "  \n",
    "\n",
    "**5. Data Transformation and Standardization:** \n",
    "\n",
    "   - The notebook covers techniques for transforming and standardizing data to a consistent format. \n",
    "\n",
    "   - Techniques like converting data types, removing leading/trailing whitespaces, and handling inconsistent string formatting are demonstrated. \n",
    "\n",
    "   - Examples of using functions like `str.lower()`, `str.strip()`, and `str.replace()` are provided. \n",
    "\n",
    "  \n",
    "\n",
    "**6. Handling Outliers:** \n",
    "\n",
    "   - The notebook explores techniques to identify and handle outliers in numerical data. \n",
    "\n",
    "   - Methods like calculating z-scores, setting thresholds based on percentiles, and visualizing box plots and scatter plots are used to identify outliers. \n",
    "\n",
    "   - Techniques for handling outliers, such as removing outliers or capping/extending values using percentiles, are discussed. \n",
    "\n",
    "  \n",
    "\n",
    "**7. Data Validation and Quality Assurance:**\n",
    "\n",
    "   - The notebook covers techniques for validating data and ensuring data quality. \n",
    "\n",
    "   - Techniques like checking for inconsistent data using regular expressions, validating numerical ranges, and cross-validating data using external sources are demonstrated."
   ]
  },
  {
   "cell_type": "markdown",
   "metadata": {},
   "source": [
    "### Step 1: Loading the Dataset\n",
    "\n",
    "First, let us start by importing the libraries we will be using in this tutorial.  We will start with pandas and numpy, which are two very typical data analysis libraries.  We will read the data file into memory and load the data into a pandas DataFrame."
   ]
  },
  {
   "cell_type": "code",
   "execution_count": 1,
   "metadata": {},
   "outputs": [],
   "source": [
    "import pandas as pd\n",
    "import numpy as np"
   ]
  },
  {
   "cell_type": "markdown",
   "metadata": {},
   "source": [
    "Read the file using the \"read_csv\" function in the pandas library and store in a dataframe called `ds_df` (data science data frame)."
   ]
  },
  {
   "cell_type": "code",
   "execution_count": 2,
   "metadata": {},
   "outputs": [],
   "source": [
    "ds_df = pd.read_csv('data files/Uncleaned_DS_jobs.csv')"
   ]
  },
  {
   "cell_type": "markdown",
   "metadata": {},
   "source": [
    "Inspect the last five rows of the data set using the tail() function."
   ]
  },
  {
   "cell_type": "code",
   "execution_count": 3,
   "metadata": {},
   "outputs": [
    {
     "data": {
      "text/html": [
       "<div>\n",
       "<style scoped>\n",
       "    .dataframe tbody tr th:only-of-type {\n",
       "        vertical-align: middle;\n",
       "    }\n",
       "\n",
       "    .dataframe tbody tr th {\n",
       "        vertical-align: top;\n",
       "    }\n",
       "\n",
       "    .dataframe thead th {\n",
       "        text-align: right;\n",
       "    }\n",
       "</style>\n",
       "<table border=\"1\" class=\"dataframe\">\n",
       "  <thead>\n",
       "    <tr style=\"text-align: right;\">\n",
       "      <th></th>\n",
       "      <th>index</th>\n",
       "      <th>Job Title</th>\n",
       "      <th>Salary Estimate</th>\n",
       "      <th>Job Description</th>\n",
       "      <th>Rating</th>\n",
       "      <th>Company Name</th>\n",
       "      <th>Location</th>\n",
       "      <th>Headquarters</th>\n",
       "      <th>Size</th>\n",
       "      <th>Founded</th>\n",
       "      <th>Type of ownership</th>\n",
       "      <th>Industry</th>\n",
       "      <th>Sector</th>\n",
       "      <th>Revenue</th>\n",
       "      <th>Competitors</th>\n",
       "    </tr>\n",
       "  </thead>\n",
       "  <tbody>\n",
       "    <tr>\n",
       "      <th>667</th>\n",
       "      <td>667</td>\n",
       "      <td>Data Scientist</td>\n",
       "      <td>$105K-$167K (Glassdoor est.)</td>\n",
       "      <td>Summary\\n\\nWe’re looking for a data scientist ...</td>\n",
       "      <td>3.6</td>\n",
       "      <td>TRANZACT\\n3.6</td>\n",
       "      <td>Fort Lee, NJ</td>\n",
       "      <td>Fort Lee, NJ</td>\n",
       "      <td>1001 to 5000 employees</td>\n",
       "      <td>1989</td>\n",
       "      <td>Company - Private</td>\n",
       "      <td>Advertising &amp; Marketing</td>\n",
       "      <td>Business Services</td>\n",
       "      <td>Unknown / Non-Applicable</td>\n",
       "      <td>-1</td>\n",
       "    </tr>\n",
       "    <tr>\n",
       "      <th>668</th>\n",
       "      <td>668</td>\n",
       "      <td>Data Scientist</td>\n",
       "      <td>$105K-$167K (Glassdoor est.)</td>\n",
       "      <td>Job Description\\nBecome a thought leader withi...</td>\n",
       "      <td>-1.0</td>\n",
       "      <td>JKGT</td>\n",
       "      <td>San Francisco, CA</td>\n",
       "      <td>-1</td>\n",
       "      <td>-1</td>\n",
       "      <td>-1</td>\n",
       "      <td>-1</td>\n",
       "      <td>-1</td>\n",
       "      <td>-1</td>\n",
       "      <td>-1</td>\n",
       "      <td>-1</td>\n",
       "    </tr>\n",
       "    <tr>\n",
       "      <th>669</th>\n",
       "      <td>669</td>\n",
       "      <td>Data Scientist</td>\n",
       "      <td>$105K-$167K (Glassdoor est.)</td>\n",
       "      <td>Join a thriving company that is changing the w...</td>\n",
       "      <td>-1.0</td>\n",
       "      <td>AccessHope</td>\n",
       "      <td>Irwindale, CA</td>\n",
       "      <td>-1</td>\n",
       "      <td>-1</td>\n",
       "      <td>-1</td>\n",
       "      <td>-1</td>\n",
       "      <td>-1</td>\n",
       "      <td>-1</td>\n",
       "      <td>-1</td>\n",
       "      <td>-1</td>\n",
       "    </tr>\n",
       "    <tr>\n",
       "      <th>670</th>\n",
       "      <td>670</td>\n",
       "      <td>Data Scientist</td>\n",
       "      <td>$105K-$167K (Glassdoor est.)</td>\n",
       "      <td>100 Remote Opportunity As an AINLP Data Scient...</td>\n",
       "      <td>5.0</td>\n",
       "      <td>ChaTeck Incorporated\\n5.0</td>\n",
       "      <td>San Francisco, CA</td>\n",
       "      <td>Santa Clara, CA</td>\n",
       "      <td>1 to 50 employees</td>\n",
       "      <td>-1</td>\n",
       "      <td>Company - Private</td>\n",
       "      <td>Advertising &amp; Marketing</td>\n",
       "      <td>Business Services</td>\n",
       "      <td>$1 to $5 million (USD)</td>\n",
       "      <td>-1</td>\n",
       "    </tr>\n",
       "    <tr>\n",
       "      <th>671</th>\n",
       "      <td>671</td>\n",
       "      <td>Data Scientist</td>\n",
       "      <td>$105K-$167K (Glassdoor est.)</td>\n",
       "      <td>Description\\n\\nThe Data Scientist will be part...</td>\n",
       "      <td>2.7</td>\n",
       "      <td>1-800-Flowers\\n2.7</td>\n",
       "      <td>New York, NY</td>\n",
       "      <td>Carle Place, NY</td>\n",
       "      <td>1001 to 5000 employees</td>\n",
       "      <td>1976</td>\n",
       "      <td>Company - Public</td>\n",
       "      <td>Wholesale</td>\n",
       "      <td>Business Services</td>\n",
       "      <td>$1 to $2 billion (USD)</td>\n",
       "      <td>-1</td>\n",
       "    </tr>\n",
       "  </tbody>\n",
       "</table>\n",
       "</div>"
      ],
      "text/plain": [
       "     index       Job Title               Salary Estimate  \\\n",
       "667    667  Data Scientist  $105K-$167K (Glassdoor est.)   \n",
       "668    668  Data Scientist  $105K-$167K (Glassdoor est.)   \n",
       "669    669  Data Scientist  $105K-$167K (Glassdoor est.)   \n",
       "670    670  Data Scientist  $105K-$167K (Glassdoor est.)   \n",
       "671    671  Data Scientist  $105K-$167K (Glassdoor est.)   \n",
       "\n",
       "                                       Job Description  Rating  \\\n",
       "667  Summary\\n\\nWe’re looking for a data scientist ...     3.6   \n",
       "668  Job Description\\nBecome a thought leader withi...    -1.0   \n",
       "669  Join a thriving company that is changing the w...    -1.0   \n",
       "670  100 Remote Opportunity As an AINLP Data Scient...     5.0   \n",
       "671  Description\\n\\nThe Data Scientist will be part...     2.7   \n",
       "\n",
       "                  Company Name           Location     Headquarters  \\\n",
       "667              TRANZACT\\n3.6       Fort Lee, NJ     Fort Lee, NJ   \n",
       "668                       JKGT  San Francisco, CA               -1   \n",
       "669                 AccessHope      Irwindale, CA               -1   \n",
       "670  ChaTeck Incorporated\\n5.0  San Francisco, CA  Santa Clara, CA   \n",
       "671         1-800-Flowers\\n2.7       New York, NY  Carle Place, NY   \n",
       "\n",
       "                       Size  Founded  Type of ownership  \\\n",
       "667  1001 to 5000 employees     1989  Company - Private   \n",
       "668                      -1       -1                 -1   \n",
       "669                      -1       -1                 -1   \n",
       "670       1 to 50 employees       -1  Company - Private   \n",
       "671  1001 to 5000 employees     1976   Company - Public   \n",
       "\n",
       "                    Industry             Sector                   Revenue  \\\n",
       "667  Advertising & Marketing  Business Services  Unknown / Non-Applicable   \n",
       "668                       -1                 -1                        -1   \n",
       "669                       -1                 -1                        -1   \n",
       "670  Advertising & Marketing  Business Services    $1 to $5 million (USD)   \n",
       "671                Wholesale  Business Services    $1 to $2 billion (USD)   \n",
       "\n",
       "    Competitors  \n",
       "667          -1  \n",
       "668          -1  \n",
       "669          -1  \n",
       "670          -1  \n",
       "671          -1  "
      ]
     },
     "execution_count": 3,
     "metadata": {},
     "output_type": "execute_result"
    }
   ],
   "source": [
    "ds_df.tail()"
   ]
  },
  {
   "cell_type": "markdown",
   "metadata": {},
   "source": [
    "### Step 2: Exploring the Dataset\n",
    "\n",
    "Before we begin cleaning the data, it's important to understand its structure and identify any potential issues. Let us explore the dataset."
   ]
  },
  {
   "cell_type": "markdown",
   "metadata": {},
   "source": [
    "We noticed an `index` column, which will not be of any use to us in our analysis; let us remove this before continuing on.  We can do this with the df.drop() function in pandas; we use `inplace=True` so that the dataframe will save this change for the rest of the notebook."
   ]
  },
  {
   "cell_type": "code",
   "execution_count": 4,
   "metadata": {},
   "outputs": [],
   "source": [
    "ds_df.drop('index', axis=1, inplace=True)"
   ]
  },
  {
   "cell_type": "markdown",
   "metadata": {},
   "source": [
    "Check the dimensions of the data set."
   ]
  },
  {
   "cell_type": "code",
   "execution_count": 5,
   "metadata": {},
   "outputs": [
    {
     "name": "stdout",
     "output_type": "stream",
     "text": [
      "Dataset Dimensions: (672, 14)\n"
     ]
    }
   ],
   "source": [
    "print('Dataset Dimensions:', ds_df.shape)"
   ]
  },
  {
   "cell_type": "markdown",
   "metadata": {},
   "source": [
    "Check the column names to see what kind of data we can analyze.  We can also sort them using the `sort_values()` function so it is a little easier to see what is available."
   ]
  },
  {
   "cell_type": "code",
   "execution_count": 6,
   "metadata": {},
   "outputs": [
    {
     "name": "stdout",
     "output_type": "stream",
     "text": [
      "Column Names:\n",
      "\n",
      "Company Name\n",
      "Competitors\n",
      "Founded\n",
      "Headquarters\n",
      "Industry\n",
      "Job Description\n",
      "Job Title\n",
      "Location\n",
      "Rating\n",
      "Revenue\n",
      "Salary Estimate\n",
      "Sector\n",
      "Size\n",
      "Type of ownership\n"
     ]
    }
   ],
   "source": [
    "print('Column Names:\\n')\n",
    "for i in ds_df.columns.sort_values():\n",
    "    print(i)"
   ]
  },
  {
   "cell_type": "code",
   "execution_count": 7,
   "metadata": {},
   "outputs": [
    {
     "name": "stdout",
     "output_type": "stream",
     "text": [
      "<class 'pandas.core.frame.DataFrame'>\n",
      "RangeIndex: 672 entries, 0 to 671\n",
      "Data columns (total 14 columns):\n",
      " #   Column             Non-Null Count  Dtype  \n",
      "---  ------             --------------  -----  \n",
      " 0   Job Title          672 non-null    object \n",
      " 1   Salary Estimate    672 non-null    object \n",
      " 2   Job Description    672 non-null    object \n",
      " 3   Rating             672 non-null    float64\n",
      " 4   Company Name       672 non-null    object \n",
      " 5   Location           672 non-null    object \n",
      " 6   Headquarters       672 non-null    object \n",
      " 7   Size               672 non-null    object \n",
      " 8   Founded            672 non-null    int64  \n",
      " 9   Type of ownership  672 non-null    object \n",
      " 10  Industry           672 non-null    object \n",
      " 11  Sector             672 non-null    object \n",
      " 12  Revenue            672 non-null    object \n",
      " 13  Competitors        672 non-null    object \n",
      "dtypes: float64(1), int64(1), object(12)\n",
      "memory usage: 73.6+ KB\n",
      "None\n"
     ]
    }
   ],
   "source": [
    "print(ds_df.info())"
   ]
  },
  {
   "cell_type": "markdown",
   "metadata": {},
   "source": [
    "### Step 3: Remove duplicate rows"
   ]
  },
  {
   "cell_type": "markdown",
   "metadata": {},
   "source": [
    "Since we don't have to deal with missing values, let us see if there are any duplicate records and remove those. We can do this using the `df.duplicated()` function and summing to get the count of duplicate rows."
   ]
  },
  {
   "cell_type": "code",
   "execution_count": 8,
   "metadata": {},
   "outputs": [
    {
     "data": {
      "text/plain": [
       "13"
      ]
     },
     "execution_count": 8,
     "metadata": {},
     "output_type": "execute_result"
    }
   ],
   "source": [
    "ds_df.duplicated().sum()"
   ]
  },
  {
   "cell_type": "markdown",
   "metadata": {},
   "source": [
    "Not too many duplicates, but let us remove them by running `df.drop_duplicates()`."
   ]
  },
  {
   "cell_type": "code",
   "execution_count": 9,
   "metadata": {},
   "outputs": [],
   "source": [
    "ds_df.drop_duplicates(inplace=True)"
   ]
  },
  {
   "cell_type": "markdown",
   "metadata": {},
   "source": [
    "Print the shape to see the new dataframe dimensions and confirm the thirteen duplicate rows are gone."
   ]
  },
  {
   "cell_type": "code",
   "execution_count": 10,
   "metadata": {},
   "outputs": [
    {
     "data": {
      "text/plain": [
       "(659, 14)"
      ]
     },
     "execution_count": 10,
     "metadata": {},
     "output_type": "execute_result"
    }
   ],
   "source": [
    "ds_df.shape"
   ]
  },
  {
   "cell_type": "markdown",
   "metadata": {},
   "source": [
    "### Step 4: Cleaning and Transforming Data\n",
    "\n",
    "Now, let us clean and transform the data to ensure consistency and uniformity.\n",
    "\n",
    "Review the first five rows of data to see if there are any manipulations or clean up steps we should take before proceeding."
   ]
  },
  {
   "cell_type": "code",
   "execution_count": 11,
   "metadata": {},
   "outputs": [
    {
     "data": {
      "text/html": [
       "<div>\n",
       "<style scoped>\n",
       "    .dataframe tbody tr th:only-of-type {\n",
       "        vertical-align: middle;\n",
       "    }\n",
       "\n",
       "    .dataframe tbody tr th {\n",
       "        vertical-align: top;\n",
       "    }\n",
       "\n",
       "    .dataframe thead th {\n",
       "        text-align: right;\n",
       "    }\n",
       "</style>\n",
       "<table border=\"1\" class=\"dataframe\">\n",
       "  <thead>\n",
       "    <tr style=\"text-align: right;\">\n",
       "      <th></th>\n",
       "      <th>Job Title</th>\n",
       "      <th>Salary Estimate</th>\n",
       "      <th>Job Description</th>\n",
       "      <th>Rating</th>\n",
       "      <th>Company Name</th>\n",
       "      <th>Location</th>\n",
       "      <th>Headquarters</th>\n",
       "      <th>Size</th>\n",
       "      <th>Founded</th>\n",
       "      <th>Type of ownership</th>\n",
       "      <th>Industry</th>\n",
       "      <th>Sector</th>\n",
       "      <th>Revenue</th>\n",
       "      <th>Competitors</th>\n",
       "    </tr>\n",
       "  </thead>\n",
       "  <tbody>\n",
       "    <tr>\n",
       "      <th>0</th>\n",
       "      <td>Sr Data Scientist</td>\n",
       "      <td>$137K-$171K (Glassdoor est.)</td>\n",
       "      <td>Description\\n\\nThe Senior Data Scientist is re...</td>\n",
       "      <td>3.1</td>\n",
       "      <td>Healthfirst\\n3.1</td>\n",
       "      <td>New York, NY</td>\n",
       "      <td>New York, NY</td>\n",
       "      <td>1001 to 5000 employees</td>\n",
       "      <td>1993</td>\n",
       "      <td>Nonprofit Organization</td>\n",
       "      <td>Insurance Carriers</td>\n",
       "      <td>Insurance</td>\n",
       "      <td>Unknown / Non-Applicable</td>\n",
       "      <td>EmblemHealth, UnitedHealth Group, Aetna</td>\n",
       "    </tr>\n",
       "    <tr>\n",
       "      <th>1</th>\n",
       "      <td>Data Scientist</td>\n",
       "      <td>$137K-$171K (Glassdoor est.)</td>\n",
       "      <td>Secure our Nation, Ignite your Future\\n\\nJoin ...</td>\n",
       "      <td>4.2</td>\n",
       "      <td>ManTech\\n4.2</td>\n",
       "      <td>Chantilly, VA</td>\n",
       "      <td>Herndon, VA</td>\n",
       "      <td>5001 to 10000 employees</td>\n",
       "      <td>1968</td>\n",
       "      <td>Company - Public</td>\n",
       "      <td>Research &amp; Development</td>\n",
       "      <td>Business Services</td>\n",
       "      <td>$1 to $2 billion (USD)</td>\n",
       "      <td>-1</td>\n",
       "    </tr>\n",
       "    <tr>\n",
       "      <th>2</th>\n",
       "      <td>Data Scientist</td>\n",
       "      <td>$137K-$171K (Glassdoor est.)</td>\n",
       "      <td>Overview\\n\\n\\nAnalysis Group is one of the lar...</td>\n",
       "      <td>3.8</td>\n",
       "      <td>Analysis Group\\n3.8</td>\n",
       "      <td>Boston, MA</td>\n",
       "      <td>Boston, MA</td>\n",
       "      <td>1001 to 5000 employees</td>\n",
       "      <td>1981</td>\n",
       "      <td>Private Practice / Firm</td>\n",
       "      <td>Consulting</td>\n",
       "      <td>Business Services</td>\n",
       "      <td>$100 to $500 million (USD)</td>\n",
       "      <td>-1</td>\n",
       "    </tr>\n",
       "    <tr>\n",
       "      <th>3</th>\n",
       "      <td>Data Scientist</td>\n",
       "      <td>$137K-$171K (Glassdoor est.)</td>\n",
       "      <td>JOB DESCRIPTION:\\n\\nDo you have a passion for ...</td>\n",
       "      <td>3.5</td>\n",
       "      <td>INFICON\\n3.5</td>\n",
       "      <td>Newton, MA</td>\n",
       "      <td>Bad Ragaz, Switzerland</td>\n",
       "      <td>501 to 1000 employees</td>\n",
       "      <td>2000</td>\n",
       "      <td>Company - Public</td>\n",
       "      <td>Electrical &amp; Electronic Manufacturing</td>\n",
       "      <td>Manufacturing</td>\n",
       "      <td>$100 to $500 million (USD)</td>\n",
       "      <td>MKS Instruments, Pfeiffer Vacuum, Agilent Tech...</td>\n",
       "    </tr>\n",
       "    <tr>\n",
       "      <th>4</th>\n",
       "      <td>Data Scientist</td>\n",
       "      <td>$137K-$171K (Glassdoor est.)</td>\n",
       "      <td>Data Scientist\\nAffinity Solutions / Marketing...</td>\n",
       "      <td>2.9</td>\n",
       "      <td>Affinity Solutions\\n2.9</td>\n",
       "      <td>New York, NY</td>\n",
       "      <td>New York, NY</td>\n",
       "      <td>51 to 200 employees</td>\n",
       "      <td>1998</td>\n",
       "      <td>Company - Private</td>\n",
       "      <td>Advertising &amp; Marketing</td>\n",
       "      <td>Business Services</td>\n",
       "      <td>Unknown / Non-Applicable</td>\n",
       "      <td>Commerce Signals, Cardlytics, Yodlee</td>\n",
       "    </tr>\n",
       "  </tbody>\n",
       "</table>\n",
       "</div>"
      ],
      "text/plain": [
       "           Job Title               Salary Estimate  \\\n",
       "0  Sr Data Scientist  $137K-$171K (Glassdoor est.)   \n",
       "1     Data Scientist  $137K-$171K (Glassdoor est.)   \n",
       "2     Data Scientist  $137K-$171K (Glassdoor est.)   \n",
       "3     Data Scientist  $137K-$171K (Glassdoor est.)   \n",
       "4     Data Scientist  $137K-$171K (Glassdoor est.)   \n",
       "\n",
       "                                     Job Description  Rating  \\\n",
       "0  Description\\n\\nThe Senior Data Scientist is re...     3.1   \n",
       "1  Secure our Nation, Ignite your Future\\n\\nJoin ...     4.2   \n",
       "2  Overview\\n\\n\\nAnalysis Group is one of the lar...     3.8   \n",
       "3  JOB DESCRIPTION:\\n\\nDo you have a passion for ...     3.5   \n",
       "4  Data Scientist\\nAffinity Solutions / Marketing...     2.9   \n",
       "\n",
       "              Company Name       Location            Headquarters  \\\n",
       "0         Healthfirst\\n3.1   New York, NY            New York, NY   \n",
       "1             ManTech\\n4.2  Chantilly, VA             Herndon, VA   \n",
       "2      Analysis Group\\n3.8     Boston, MA              Boston, MA   \n",
       "3             INFICON\\n3.5     Newton, MA  Bad Ragaz, Switzerland   \n",
       "4  Affinity Solutions\\n2.9   New York, NY            New York, NY   \n",
       "\n",
       "                      Size  Founded        Type of ownership  \\\n",
       "0   1001 to 5000 employees     1993   Nonprofit Organization   \n",
       "1  5001 to 10000 employees     1968         Company - Public   \n",
       "2   1001 to 5000 employees     1981  Private Practice / Firm   \n",
       "3    501 to 1000 employees     2000         Company - Public   \n",
       "4      51 to 200 employees     1998        Company - Private   \n",
       "\n",
       "                                Industry             Sector  \\\n",
       "0                     Insurance Carriers          Insurance   \n",
       "1                 Research & Development  Business Services   \n",
       "2                             Consulting  Business Services   \n",
       "3  Electrical & Electronic Manufacturing      Manufacturing   \n",
       "4                Advertising & Marketing  Business Services   \n",
       "\n",
       "                      Revenue  \\\n",
       "0    Unknown / Non-Applicable   \n",
       "1      $1 to $2 billion (USD)   \n",
       "2  $100 to $500 million (USD)   \n",
       "3  $100 to $500 million (USD)   \n",
       "4    Unknown / Non-Applicable   \n",
       "\n",
       "                                         Competitors  \n",
       "0            EmblemHealth, UnitedHealth Group, Aetna  \n",
       "1                                                 -1  \n",
       "2                                                 -1  \n",
       "3  MKS Instruments, Pfeiffer Vacuum, Agilent Tech...  \n",
       "4               Commerce Signals, Cardlytics, Yodlee  "
      ]
     },
     "execution_count": 11,
     "metadata": {},
     "output_type": "execute_result"
    }
   ],
   "source": [
    "ds_df.head()"
   ]
  },
  {
   "cell_type": "markdown",
   "metadata": {},
   "source": [
    "We can print the column out to confirm the '\\n#.#' string appears on every row."
   ]
  },
  {
   "cell_type": "code",
   "execution_count": 12,
   "metadata": {},
   "outputs": [
    {
     "data": {
      "text/plain": [
       "0               Healthfirst\\n3.1\n",
       "1                   ManTech\\n4.2\n",
       "2            Analysis Group\\n3.8\n",
       "3                   INFICON\\n3.5\n",
       "4        Affinity Solutions\\n2.9\n",
       "                 ...            \n",
       "667                TRANZACT\\n3.6\n",
       "668                         JKGT\n",
       "669                   AccessHope\n",
       "670    ChaTeck Incorporated\\n5.0\n",
       "671           1-800-Flowers\\n2.7\n",
       "Name: Company Name, Length: 659, dtype: object"
      ]
     },
     "execution_count": 12,
     "metadata": {},
     "output_type": "execute_result"
    }
   ],
   "source": [
    "ds_df['Company Name']"
   ]
  },
  {
   "cell_type": "markdown",
   "metadata": {},
   "source": [
    "We split on the '\\n' string and expand the columns so it splits them into two."
   ]
  },
  {
   "cell_type": "code",
   "execution_count": 13,
   "metadata": {},
   "outputs": [
    {
     "name": "stdout",
     "output_type": "stream",
     "text": [
      "                        0     1\n",
      "0             Healthfirst   3.1\n",
      "1                 ManTech   4.2\n",
      "2          Analysis Group   3.8\n",
      "3                 INFICON   3.5\n",
      "4      Affinity Solutions   2.9\n",
      "..                    ...   ...\n",
      "667              TRANZACT   3.6\n",
      "668                  JKGT  None\n",
      "669            AccessHope  None\n",
      "670  ChaTeck Incorporated   5.0\n",
      "671         1-800-Flowers   2.7\n",
      "\n",
      "[659 rows x 2 columns]\n"
     ]
    }
   ],
   "source": [
    "print(ds_df['Company Name'].str.split('\\n', expand=True))"
   ]
  },
  {
   "cell_type": "markdown",
   "metadata": {},
   "source": [
    "Then we grab the company name by only selecting the first element, which in Python starts with `[0]`."
   ]
  },
  {
   "cell_type": "code",
   "execution_count": 14,
   "metadata": {},
   "outputs": [],
   "source": [
    "ds_df['Company Name'] = ds_df['Company Name'].str.split('\\n', expand=True)[0]"
   ]
  },
  {
   "cell_type": "markdown",
   "metadata": {},
   "source": [
    "For all of our transformations, we want to print out the results of our work to confirm our code is performing the transformations as we expect."
   ]
  },
  {
   "cell_type": "code",
   "execution_count": 15,
   "metadata": {},
   "outputs": [
    {
     "data": {
      "text/plain": [
       "0               Healthfirst\n",
       "1                   ManTech\n",
       "2            Analysis Group\n",
       "3                   INFICON\n",
       "4        Affinity Solutions\n",
       "               ...         \n",
       "667                TRANZACT\n",
       "668                    JKGT\n",
       "669              AccessHope\n",
       "670    ChaTeck Incorporated\n",
       "671           1-800-Flowers\n",
       "Name: Company Name, Length: 659, dtype: object"
      ]
     },
     "execution_count": 15,
     "metadata": {},
     "output_type": "execute_result"
    }
   ],
   "source": [
    "ds_df['Company Name']"
   ]
  },
  {
   "cell_type": "markdown",
   "metadata": {},
   "source": [
    "Let us now look at the Industry column."
   ]
  },
  {
   "cell_type": "code",
   "execution_count": 16,
   "metadata": {},
   "outputs": [
    {
     "data": {
      "text/plain": [
       "Industry\n",
       "Biotech & Pharmaceuticals                  66\n",
       "IT Services                                61\n",
       "-1                                         60\n",
       "Computer Hardware & Software               56\n",
       "Aerospace & Defense                        46\n",
       "Enterprise Software & Network Solutions    43\n",
       "Consulting                                 38\n",
       "Staffing & Outsourcing                     36\n",
       "Insurance Carriers                         28\n",
       "Internet                                   27\n",
       "Name: count, dtype: int64"
      ]
     },
     "execution_count": 16,
     "metadata": {},
     "output_type": "execute_result"
    }
   ],
   "source": [
    "ds_df['Industry'].value_counts()[0:10]"
   ]
  },
  {
   "cell_type": "markdown",
   "metadata": {},
   "source": [
    "Let us transform the -1 with 'Unknown Industry' using the `str.replace()` function."
   ]
  },
  {
   "cell_type": "code",
   "execution_count": 17,
   "metadata": {},
   "outputs": [],
   "source": [
    "ds_df['Industry'] = ds_df['Industry'].str.replace('-1', 'Unknown Industry')"
   ]
  },
  {
   "cell_type": "markdown",
   "metadata": {},
   "source": [
    "Let us confirm the transformation was successful.  We can just look at the top ten industries to confirm it worked."
   ]
  },
  {
   "cell_type": "code",
   "execution_count": 18,
   "metadata": {},
   "outputs": [
    {
     "data": {
      "text/plain": [
       "Industry\n",
       "Biotech & Pharmaceuticals                  66\n",
       "IT Services                                61\n",
       "Unknown Industry                           60\n",
       "Computer Hardware & Software               56\n",
       "Aerospace & Defense                        46\n",
       "Enterprise Software & Network Solutions    43\n",
       "Consulting                                 38\n",
       "Staffing & Outsourcing                     36\n",
       "Insurance Carriers                         28\n",
       "Internet                                   27\n",
       "Name: count, dtype: int64"
      ]
     },
     "execution_count": 18,
     "metadata": {},
     "output_type": "execute_result"
    }
   ],
   "source": [
    "ds_df['Industry'].value_counts()[0:10]"
   ]
  },
  {
   "cell_type": "markdown",
   "metadata": {},
   "source": [
    "Next, let us look at the Salary Estimate column."
   ]
  },
  {
   "cell_type": "code",
   "execution_count": 19,
   "metadata": {},
   "outputs": [
    {
     "data": {
      "text/plain": [
       "Salary Estimate\n",
       "$75K-$131K (Glassdoor est.)     32\n",
       "$79K-$131K (Glassdoor est.)     32\n",
       "$99K-$132K (Glassdoor est.)     32\n",
       "$137K-$171K (Glassdoor est.)    30\n",
       "$90K-$109K (Glassdoor est.)     28\n",
       "$56K-$97K (Glassdoor est.)      22\n",
       "$79K-$106K (Glassdoor est.)     22\n",
       "$90K-$124K (Glassdoor est.)     22\n",
       "$92K-$155K (Glassdoor est.)     21\n",
       "$138K-$158K (Glassdoor est.)    21\n",
       "Name: count, dtype: int64"
      ]
     },
     "execution_count": 19,
     "metadata": {},
     "output_type": "execute_result"
    }
   ],
   "source": [
    "ds_df['Salary Estimate'].value_counts()[0:10]"
   ]
  },
  {
   "cell_type": "markdown",
   "metadata": {},
   "source": [
    "Our best bet here is to do a regular expression (regex) to strip out any of the non-numeric values, then create two columns with the minimum and maximum salaries for each row."
   ]
  },
  {
   "cell_type": "code",
   "execution_count": 20,
   "metadata": {},
   "outputs": [],
   "source": [
    "ds_df['Min Salary'] = ds_df['Salary Estimate'].str.extract('\\$(\\d+)K').astype(float)*1000"
   ]
  },
  {
   "cell_type": "markdown",
   "metadata": {},
   "source": [
    "Do the same with the Maximum Salary, but this time pulling out the second element in the salary range to get the maximum salary.  We also multiply this number by 1000."
   ]
  },
  {
   "cell_type": "code",
   "execution_count": 21,
   "metadata": {},
   "outputs": [],
   "source": [
    "ds_df['Max Salary'] = ds_df['Salary Estimate'].str.extract(r'\\$(\\d+)K-\\$(\\d+)K')[1].astype(float)*1000"
   ]
  },
  {
   "cell_type": "markdown",
   "metadata": {},
   "source": [
    "Print out a few elements from each newly created column to confirm the transformations were successful."
   ]
  },
  {
   "cell_type": "code",
   "execution_count": 22,
   "metadata": {},
   "outputs": [
    {
     "name": "stdout",
     "output_type": "stream",
     "text": [
      "     Min Salary  Max Salary\n",
      "0      137000.0    171000.0\n",
      "1      137000.0    171000.0\n",
      "2      137000.0    171000.0\n",
      "3      137000.0    171000.0\n",
      "4      137000.0    171000.0\n",
      "..          ...         ...\n",
      "667    105000.0    167000.0\n",
      "668    105000.0    167000.0\n",
      "669    105000.0    167000.0\n",
      "670    105000.0    167000.0\n",
      "671    105000.0    167000.0\n",
      "\n",
      "[659 rows x 2 columns]\n"
     ]
    }
   ],
   "source": [
    "print(ds_df[['Min Salary', 'Max Salary']])"
   ]
  },
  {
   "cell_type": "markdown",
   "metadata": {},
   "source": [
    "Now we can do analysis on the salary ranges more effectively.  Let us add an Average Salary column to the data set so we can slice by Minimum, Maximum, and Average Salary by job."
   ]
  },
  {
   "cell_type": "code",
   "execution_count": 23,
   "metadata": {},
   "outputs": [],
   "source": [
    "ds_df['Average Salary'] = ds_df[['Min Salary', 'Max Salary']].mean(axis = 1)"
   ]
  },
  {
   "cell_type": "markdown",
   "metadata": {},
   "source": [
    "Print out a few sample values to confirm the average calculation performed on every row and looks good."
   ]
  },
  {
   "cell_type": "code",
   "execution_count": 24,
   "metadata": {},
   "outputs": [
    {
     "data": {
      "text/plain": [
       "0      154000.0\n",
       "1      154000.0\n",
       "2      154000.0\n",
       "3      154000.0\n",
       "4      154000.0\n",
       "         ...   \n",
       "667    136000.0\n",
       "668    136000.0\n",
       "669    136000.0\n",
       "670    136000.0\n",
       "671    136000.0\n",
       "Name: Average Salary, Length: 659, dtype: float64"
      ]
     },
     "execution_count": 24,
     "metadata": {},
     "output_type": "execute_result"
    }
   ],
   "source": [
    "ds_df['Average Salary']"
   ]
  },
  {
   "cell_type": "markdown",
   "metadata": {},
   "source": [
    "Now that we have salary covered, let us look at the Size column by printing the value counts."
   ]
  },
  {
   "cell_type": "code",
   "execution_count": 25,
   "metadata": {},
   "outputs": [
    {
     "data": {
      "text/plain": [
       "Size\n",
       "51 to 200 employees        134\n",
       "1001 to 5000 employees     104\n",
       "1 to 50 employees           86\n",
       "201 to 500 employees        84\n",
       "10000+ employees            80\n",
       "501 to 1000 employees       77\n",
       "5001 to 10000 employees     61\n",
       "Unknown                     17\n",
       "-1                          16\n",
       "Name: count, dtype: int64"
      ]
     },
     "execution_count": 25,
     "metadata": {},
     "output_type": "execute_result"
    }
   ],
   "source": [
    "ds_df['Size'].value_counts()"
   ]
  },
  {
   "cell_type": "markdown",
   "metadata": {},
   "source": [
    "We notice that 'employees' is repeated on every line and there are a few -1s that we should take care of."
   ]
  },
  {
   "cell_type": "code",
   "execution_count": 26,
   "metadata": {},
   "outputs": [],
   "source": [
    "ds_df['Size'] = ds_df['Size'].str.replace('-1', 'Unknown')"
   ]
  },
  {
   "cell_type": "markdown",
   "metadata": {},
   "source": [
    "Then we will remove 'employees' from all of the entries so it looks a little better."
   ]
  },
  {
   "cell_type": "code",
   "execution_count": 27,
   "metadata": {},
   "outputs": [],
   "source": [
    "ds_df['Size'] = ds_df['Size'].str.split(' employees', expand=True)[0]"
   ]
  },
  {
   "cell_type": "markdown",
   "metadata": {},
   "source": [
    "Print out the value counts now to see if the transformations were successful."
   ]
  },
  {
   "cell_type": "code",
   "execution_count": 28,
   "metadata": {},
   "outputs": [
    {
     "data": {
      "text/plain": [
       "Size\n",
       "51 to 200        134\n",
       "1001 to 5000     104\n",
       "1 to 50           86\n",
       "201 to 500        84\n",
       "10000+            80\n",
       "501 to 1000       77\n",
       "5001 to 10000     61\n",
       "Unknown           33\n",
       "Name: count, dtype: int64"
      ]
     },
     "execution_count": 28,
     "metadata": {},
     "output_type": "execute_result"
    }
   ],
   "source": [
    "ds_df['Size'].value_counts()"
   ]
  },
  {
   "cell_type": "markdown",
   "metadata": {},
   "source": [
    "Let us look at the year the company was founded and use this to calculate how old the company is.  To start, we should see if there are any strange values in the Founded column by also looking value counts."
   ]
  },
  {
   "cell_type": "code",
   "execution_count": 29,
   "metadata": {},
   "outputs": [
    {
     "data": {
      "text/plain": [
       "Founded\n",
       "-1       107\n",
       " 2012     34\n",
       " 2011     24\n",
       " 2010     22\n",
       " 1996     22\n",
       " 1999     22\n",
       " 2015     21\n",
       " 2006     16\n",
       " 2013     16\n",
       " 2000     15\n",
       "Name: count, dtype: int64"
      ]
     },
     "execution_count": 29,
     "metadata": {},
     "output_type": "execute_result"
    }
   ],
   "source": [
    "ds_df['Founded'].value_counts()[0:10]"
   ]
  },
  {
   "cell_type": "markdown",
   "metadata": {},
   "source": [
    "This column is an integer and we want to use it to perform a simple calculation to subtract it from the current year of 2023 so we replace the -1 with a 0."
   ]
  },
  {
   "cell_type": "code",
   "execution_count": 30,
   "metadata": {},
   "outputs": [],
   "source": [
    "ds_df['Founded'] = ds_df['Founded'].replace(-1, 0)"
   ]
  },
  {
   "cell_type": "markdown",
   "metadata": {},
   "source": [
    "We can build a simple lambda function to say if the year = 0 then just set the age of the company to 0, otherwise subtract it from 2023 to get the number of years of the company."
   ]
  },
  {
   "cell_type": "code",
   "execution_count": 31,
   "metadata": {},
   "outputs": [],
   "source": [
    "ds_df['Age of Company'] = ds_df['Founded'].apply(lambda x: 2023-x if x != 0 else x)"
   ]
  },
  {
   "cell_type": "markdown",
   "metadata": {},
   "source": [
    "Print the results to see if the transformations worked."
   ]
  },
  {
   "cell_type": "code",
   "execution_count": 32,
   "metadata": {},
   "outputs": [
    {
     "data": {
      "text/plain": [
       "Age of Company\n",
       "0     107\n",
       "11     34\n",
       "12     24\n",
       "13     22\n",
       "27     22\n",
       "24     22\n",
       "8      21\n",
       "17     16\n",
       "10     16\n",
       "23     15\n",
       "Name: count, dtype: int64"
      ]
     },
     "execution_count": 32,
     "metadata": {},
     "output_type": "execute_result"
    }
   ],
   "source": [
    "ds_df['Age of Company'].value_counts()[0:10]"
   ]
  },
  {
   "cell_type": "markdown",
   "metadata": {},
   "source": [
    "For the sake of time and brevity, we will perform a few more clean up items before we try visualizing the data.  Let us look at the Ratings column and see if anything can be transformed there."
   ]
  },
  {
   "cell_type": "code",
   "execution_count": 33,
   "metadata": {},
   "outputs": [
    {
     "name": "stdout",
     "output_type": "stream",
     "text": [
      "   Rating  count\n",
      "0     3.5     58\n",
      "1     4.0     41\n",
      "2     3.3     41\n",
      "3     3.9     40\n",
      "4    -1.0     39\n",
      "5     3.8     39\n",
      "6     3.7     38\n",
      "7     5.0     36\n",
      "8     4.5     32\n",
      "9     3.6     31\n"
     ]
    }
   ],
   "source": [
    "print(ds_df['Rating'].value_counts().reset_index()[0:10])"
   ]
  },
  {
   "cell_type": "markdown",
   "metadata": {},
   "source": [
    "Let us impute a NULL or empty value since the data type is a float; this is the safest bet to accurately represent that the Ratings data is missing for those rows and will not affect the min, max, and average calculations."
   ]
  },
  {
   "cell_type": "code",
   "execution_count": 34,
   "metadata": {},
   "outputs": [],
   "source": [
    "ds_df['Rating'] = ds_df['Rating'].replace(-1, np.NaN)"
   ]
  },
  {
   "cell_type": "markdown",
   "metadata": {},
   "source": [
    "Show the average rating now that we've replaced the -1s with NULL."
   ]
  },
  {
   "cell_type": "code",
   "execution_count": 35,
   "metadata": {},
   "outputs": [
    {
     "name": "stdout",
     "output_type": "stream",
     "text": [
      "The average Rating after replacing -1 with NULL is: 3.8812903225806448\n"
     ]
    }
   ],
   "source": [
    "print('The average Rating after replacing -1 with NULL is:', ds_df['Rating'].mean().astype(str))"
   ]
  },
  {
   "cell_type": "markdown",
   "metadata": {},
   "source": [
    "Next up is taking a look at the job locations and seeing if there is any strange or missing data there."
   ]
  },
  {
   "cell_type": "code",
   "execution_count": 36,
   "metadata": {},
   "outputs": [
    {
     "data": {
      "text/plain": [
       "Location\n",
       "San Francisco, CA    58\n",
       "New York, NY         50\n",
       "Washington, DC       26\n",
       "Boston, MA           24\n",
       "Chicago, IL          22\n",
       "                     ..\n",
       "Lehi, UT              1\n",
       "Culver City, CA       1\n",
       "Lake Oswego, OR       1\n",
       "New Orleans, LA       1\n",
       "Irwindale, CA         1\n",
       "Name: count, Length: 207, dtype: int64"
      ]
     },
     "execution_count": 36,
     "metadata": {},
     "output_type": "execute_result"
    }
   ],
   "source": [
    "ds_df['Location'].value_counts()"
   ]
  },
  {
   "cell_type": "markdown",
   "metadata": {},
   "source": [
    "Let us start by pulling out just the state abbreviations and disregarding the cities."
   ]
  },
  {
   "cell_type": "code",
   "execution_count": 37,
   "metadata": {},
   "outputs": [
    {
     "data": {
      "text/plain": [
       "Location\n",
       " CA              154\n",
       " VA               89\n",
       " MA               62\n",
       " NY               52\n",
       " MD               40\n",
       " IL               30\n",
       " DC               26\n",
       " TX               17\n",
       " WA               16\n",
       " OH               14\n",
       " PA               12\n",
       " MO               12\n",
       "United States     11\n",
       " NJ               10\n",
       " CO               10\n",
       " NC                9\n",
       " GA                9\n",
       " TN                8\n",
       " FL                8\n",
       " OK                6\n",
       " WI                6\n",
       "Remote             5\n",
       " IN                5\n",
       " MI                5\n",
       " CT                4\n",
       " AL                4\n",
       " MN                4\n",
       " AZ                4\n",
       " NE                3\n",
       " IA                3\n",
       " RI                2\n",
       "New Jersey         2\n",
       " SC                2\n",
       " OR                2\n",
       " UT                2\n",
       "Utah               2\n",
       " NH                2\n",
       " MS                1\n",
       " LA                1\n",
       " KS                1\n",
       "Texas              1\n",
       " DE                1\n",
       "California         1\n",
       " WV                1\n",
       "Name: count, dtype: int64"
      ]
     },
     "execution_count": 37,
     "metadata": {},
     "output_type": "execute_result"
    }
   ],
   "source": [
    "ds_df['Location'].apply(lambda x: x.split(\",\")[-1]).value_counts()"
   ]
  },
  {
   "cell_type": "markdown",
   "metadata": {},
   "source": [
    "Now we see that a few of the job locations have the full state name or USA in them so we will create a simple function to deal with these."
   ]
  },
  {
   "cell_type": "code",
   "execution_count": 38,
   "metadata": {},
   "outputs": [],
   "source": [
    "ds_df['Job State'] = ds_df['Location'].apply(lambda x: x.split(\",\")[-1].strip())"
   ]
  },
  {
   "cell_type": "markdown",
   "metadata": {},
   "source": [
    "We will keep it simple and just change the values to ones that seem appropriate."
   ]
  },
  {
   "cell_type": "code",
   "execution_count": 39,
   "metadata": {},
   "outputs": [],
   "source": [
    "ds_df['Job State'] = ds_df['Job State'].replace(['California', 'New Jersey', 'Texas', \n",
    "                                                 'Utah', 'United States', 'Remote'],\n",
    "                                                      ['CA', 'NJ', 'TX', 'UT', 'USA', 'All'])"
   ]
  },
  {
   "cell_type": "markdown",
   "metadata": {},
   "source": [
    "Print out the 'Job State' column to confirm our transformations were successful."
   ]
  },
  {
   "cell_type": "code",
   "execution_count": 40,
   "metadata": {},
   "outputs": [
    {
     "data": {
      "text/plain": [
       "Job State\n",
       "CA    155\n",
       "VA     89\n",
       "MA     62\n",
       "NY     52\n",
       "MD     40\n",
       "Name: count, dtype: int64"
      ]
     },
     "execution_count": 40,
     "metadata": {},
     "output_type": "execute_result"
    }
   ],
   "source": [
    "ds_df['Job State'].value_counts()[0:5]"
   ]
  },
  {
   "cell_type": "markdown",
   "metadata": {},
   "source": [
    "A few more things to clean up and then we can save the data set, then do some quick visualizations to bring it all together.  Let's start by looking at the Job Titles in each of the descriptions and see if we can do some quick work on them.\n",
    "\n",
    "We start by looking at what the counts are for the Job Title column."
   ]
  },
  {
   "cell_type": "code",
   "execution_count": 41,
   "metadata": {},
   "outputs": [
    {
     "data": {
      "text/plain": [
       "Job Title\n",
       "Data Scientist                                326\n",
       "Data Engineer                                  26\n",
       "Senior Data Scientist                          19\n",
       "Machine Learning Engineer                      15\n",
       "Data Analyst                                   12\n",
       "Senior Data Analyst                             6\n",
       "Data Scientist - TS/SCI FSP or CI Required      4\n",
       "Data Science Software Engineer                  4\n",
       "Name: count, dtype: int64"
      ]
     },
     "execution_count": 41,
     "metadata": {},
     "output_type": "execute_result"
    }
   ],
   "source": [
    "ds_df['Job Title'].value_counts()[0:8]"
   ]
  },
  {
   "cell_type": "markdown",
   "metadata": {},
   "source": [
    "It looks like the vast majority of the postings use the first five titles or some form of them.  We can create a simple function to look for specific text in the title, transform the title, and then save it back to the Job Title column."
   ]
  },
  {
   "cell_type": "code",
   "execution_count": 42,
   "metadata": {},
   "outputs": [],
   "source": [
    "def job_title_transformation(title):\n",
    "    title = title.lower()\n",
    "\n",
    "    if 'data scientist' in title:\n",
    "        return 'Data Scientist'\n",
    "    elif 'data analyst' in title:\n",
    "        return 'Data Analyst'\n",
    "    elif 'data engineer' in title:\n",
    "        return 'Data Engineer'\n",
    "    elif 'machine learning' in title:\n",
    "        return 'Machine Learning Engineer'\n",
    "    elif 'director' in title:\n",
    "        return 'Director'\n",
    "    elif 'manager' in title:\n",
    "        return 'Manager'\n",
    "    elif 'vice president' in title:\n",
    "        return 'Vice President'\n",
    "    elif 'analyst' in title:\n",
    "        return 'Data Analyst'\n",
    "    else:\n",
    "        return 'Unknown Job Title'"
   ]
  },
  {
   "cell_type": "markdown",
   "metadata": {},
   "source": [
    "Apply the function to the Job Title column and create a new column called Job Title Transformed."
   ]
  },
  {
   "cell_type": "code",
   "execution_count": 43,
   "metadata": {},
   "outputs": [],
   "source": [
    "ds_df['Job Title Transformed'] = ds_df['Job Title'].apply(job_title_transformation)"
   ]
  },
  {
   "cell_type": "markdown",
   "metadata": {},
   "source": [
    "Confirm the new column looks as expected."
   ]
  },
  {
   "cell_type": "code",
   "execution_count": 44,
   "metadata": {},
   "outputs": [
    {
     "data": {
      "text/plain": [
       "Job Title Transformed\n",
       "Data Scientist               444\n",
       "Unknown Job Title             68\n",
       "Data Analyst                  55\n",
       "Data Engineer                 46\n",
       "Machine Learning Engineer     35\n",
       "Manager                        7\n",
       "Director                       3\n",
       "Vice President                 1\n",
       "Name: count, dtype: int64"
      ]
     },
     "execution_count": 44,
     "metadata": {},
     "output_type": "execute_result"
    }
   ],
   "source": [
    "ds_df['Job Title Transformed'].value_counts()"
   ]
  },
  {
   "cell_type": "markdown",
   "metadata": {},
   "source": [
    "We see that there only 68 jobs that are in that miscellaneous bucket so it makes logical sense to bucket them all.  \n",
    "\n",
    "The last step in the transformation process: uncover what the most popular skills in the Job Description column.  We need to create boolean columns that indicate whether any of the skills shows up in the job description with a simple function."
   ]
  },
  {
   "cell_type": "code",
   "execution_count": 45,
   "metadata": {},
   "outputs": [],
   "source": [
    "def create_flag_columns(df, columns):\n",
    "    for column in columns:\n",
    "        df[column.title()] = df['Job Description'].str.lower().str.contains(column).astype(int)"
   ]
  },
  {
   "cell_type": "code",
   "execution_count": 46,
   "metadata": {},
   "outputs": [],
   "source": [
    "columns = [\"python\", \"excel\", \"tableau\", \"power bi\", \"aws\", \"sql\", \"spark\"]\n",
    "create_flag_columns(ds_df, columns)"
   ]
  },
  {
   "cell_type": "markdown",
   "metadata": {},
   "source": [
    "We pass the DataFrame ds_df and a list of column names columns to the create_flag_columns function which creates 'flag' columns for each specified column in ds_df, indicating whether the corresponding keyword is present in the respective column's values.  We can print one of the columns to confirm it worked successfully."
   ]
  },
  {
   "cell_type": "code",
   "execution_count": 47,
   "metadata": {},
   "outputs": [
    {
     "data": {
      "text/plain": [
       "Python\n",
       "1    479\n",
       "0    180\n",
       "Name: count, dtype: int64"
      ]
     },
     "execution_count": 47,
     "metadata": {},
     "output_type": "execute_result"
    }
   ],
   "source": [
    "ds_df['Python'].value_counts()"
   ]
  },
  {
   "cell_type": "markdown",
   "metadata": {},
   "source": [
    "Let us check to make sure all of the new columns were created."
   ]
  },
  {
   "cell_type": "code",
   "execution_count": 48,
   "metadata": {},
   "outputs": [
    {
     "data": {
      "text/plain": [
       "Index(['Job Title', 'Salary Estimate', 'Job Description', 'Rating',\n",
       "       'Company Name', 'Location', 'Headquarters', 'Size', 'Founded',\n",
       "       'Type of ownership', 'Industry', 'Sector', 'Revenue', 'Competitors',\n",
       "       'Min Salary', 'Max Salary', 'Average Salary', 'Age of Company',\n",
       "       'Job State', 'Job Title Transformed', 'Python', 'Excel', 'Tableau',\n",
       "       'Power Bi', 'Aws', 'Sql', 'Spark'],\n",
       "      dtype='object')"
      ]
     },
     "execution_count": 48,
     "metadata": {},
     "output_type": "execute_result"
    }
   ],
   "source": [
    "ds_df.columns"
   ]
  },
  {
   "cell_type": "markdown",
   "metadata": {},
   "source": [
    "Let us print the first five rows of the data frame as one final check to confirm our transformations have been applied successfully."
   ]
  },
  {
   "cell_type": "code",
   "execution_count": 49,
   "metadata": {},
   "outputs": [
    {
     "data": {
      "text/html": [
       "<div>\n",
       "<style scoped>\n",
       "    .dataframe tbody tr th:only-of-type {\n",
       "        vertical-align: middle;\n",
       "    }\n",
       "\n",
       "    .dataframe tbody tr th {\n",
       "        vertical-align: top;\n",
       "    }\n",
       "\n",
       "    .dataframe thead th {\n",
       "        text-align: right;\n",
       "    }\n",
       "</style>\n",
       "<table border=\"1\" class=\"dataframe\">\n",
       "  <thead>\n",
       "    <tr style=\"text-align: right;\">\n",
       "      <th></th>\n",
       "      <th>Job Title</th>\n",
       "      <th>Salary Estimate</th>\n",
       "      <th>Job Description</th>\n",
       "      <th>Rating</th>\n",
       "      <th>Company Name</th>\n",
       "      <th>Location</th>\n",
       "      <th>Headquarters</th>\n",
       "      <th>Size</th>\n",
       "      <th>Founded</th>\n",
       "      <th>Type of ownership</th>\n",
       "      <th>...</th>\n",
       "      <th>Age of Company</th>\n",
       "      <th>Job State</th>\n",
       "      <th>Job Title Transformed</th>\n",
       "      <th>Python</th>\n",
       "      <th>Excel</th>\n",
       "      <th>Tableau</th>\n",
       "      <th>Power Bi</th>\n",
       "      <th>Aws</th>\n",
       "      <th>Sql</th>\n",
       "      <th>Spark</th>\n",
       "    </tr>\n",
       "  </thead>\n",
       "  <tbody>\n",
       "    <tr>\n",
       "      <th>0</th>\n",
       "      <td>Sr Data Scientist</td>\n",
       "      <td>$137K-$171K (Glassdoor est.)</td>\n",
       "      <td>Description\\n\\nThe Senior Data Scientist is re...</td>\n",
       "      <td>3.1</td>\n",
       "      <td>Healthfirst</td>\n",
       "      <td>New York, NY</td>\n",
       "      <td>New York, NY</td>\n",
       "      <td>1001 to 5000</td>\n",
       "      <td>1993</td>\n",
       "      <td>Nonprofit Organization</td>\n",
       "      <td>...</td>\n",
       "      <td>30</td>\n",
       "      <td>NY</td>\n",
       "      <td>Data Scientist</td>\n",
       "      <td>0</td>\n",
       "      <td>0</td>\n",
       "      <td>0</td>\n",
       "      <td>0</td>\n",
       "      <td>1</td>\n",
       "      <td>0</td>\n",
       "      <td>0</td>\n",
       "    </tr>\n",
       "    <tr>\n",
       "      <th>1</th>\n",
       "      <td>Data Scientist</td>\n",
       "      <td>$137K-$171K (Glassdoor est.)</td>\n",
       "      <td>Secure our Nation, Ignite your Future\\n\\nJoin ...</td>\n",
       "      <td>4.2</td>\n",
       "      <td>ManTech</td>\n",
       "      <td>Chantilly, VA</td>\n",
       "      <td>Herndon, VA</td>\n",
       "      <td>5001 to 10000</td>\n",
       "      <td>1968</td>\n",
       "      <td>Company - Public</td>\n",
       "      <td>...</td>\n",
       "      <td>55</td>\n",
       "      <td>VA</td>\n",
       "      <td>Data Scientist</td>\n",
       "      <td>0</td>\n",
       "      <td>0</td>\n",
       "      <td>0</td>\n",
       "      <td>0</td>\n",
       "      <td>0</td>\n",
       "      <td>1</td>\n",
       "      <td>0</td>\n",
       "    </tr>\n",
       "    <tr>\n",
       "      <th>2</th>\n",
       "      <td>Data Scientist</td>\n",
       "      <td>$137K-$171K (Glassdoor est.)</td>\n",
       "      <td>Overview\\n\\n\\nAnalysis Group is one of the lar...</td>\n",
       "      <td>3.8</td>\n",
       "      <td>Analysis Group</td>\n",
       "      <td>Boston, MA</td>\n",
       "      <td>Boston, MA</td>\n",
       "      <td>1001 to 5000</td>\n",
       "      <td>1981</td>\n",
       "      <td>Private Practice / Firm</td>\n",
       "      <td>...</td>\n",
       "      <td>42</td>\n",
       "      <td>MA</td>\n",
       "      <td>Data Scientist</td>\n",
       "      <td>1</td>\n",
       "      <td>1</td>\n",
       "      <td>0</td>\n",
       "      <td>0</td>\n",
       "      <td>1</td>\n",
       "      <td>0</td>\n",
       "      <td>0</td>\n",
       "    </tr>\n",
       "    <tr>\n",
       "      <th>3</th>\n",
       "      <td>Data Scientist</td>\n",
       "      <td>$137K-$171K (Glassdoor est.)</td>\n",
       "      <td>JOB DESCRIPTION:\\n\\nDo you have a passion for ...</td>\n",
       "      <td>3.5</td>\n",
       "      <td>INFICON</td>\n",
       "      <td>Newton, MA</td>\n",
       "      <td>Bad Ragaz, Switzerland</td>\n",
       "      <td>501 to 1000</td>\n",
       "      <td>2000</td>\n",
       "      <td>Company - Public</td>\n",
       "      <td>...</td>\n",
       "      <td>23</td>\n",
       "      <td>MA</td>\n",
       "      <td>Data Scientist</td>\n",
       "      <td>1</td>\n",
       "      <td>1</td>\n",
       "      <td>0</td>\n",
       "      <td>0</td>\n",
       "      <td>1</td>\n",
       "      <td>1</td>\n",
       "      <td>0</td>\n",
       "    </tr>\n",
       "    <tr>\n",
       "      <th>4</th>\n",
       "      <td>Data Scientist</td>\n",
       "      <td>$137K-$171K (Glassdoor est.)</td>\n",
       "      <td>Data Scientist\\nAffinity Solutions / Marketing...</td>\n",
       "      <td>2.9</td>\n",
       "      <td>Affinity Solutions</td>\n",
       "      <td>New York, NY</td>\n",
       "      <td>New York, NY</td>\n",
       "      <td>51 to 200</td>\n",
       "      <td>1998</td>\n",
       "      <td>Company - Private</td>\n",
       "      <td>...</td>\n",
       "      <td>25</td>\n",
       "      <td>NY</td>\n",
       "      <td>Data Scientist</td>\n",
       "      <td>1</td>\n",
       "      <td>1</td>\n",
       "      <td>0</td>\n",
       "      <td>0</td>\n",
       "      <td>0</td>\n",
       "      <td>1</td>\n",
       "      <td>0</td>\n",
       "    </tr>\n",
       "  </tbody>\n",
       "</table>\n",
       "<p>5 rows × 27 columns</p>\n",
       "</div>"
      ],
      "text/plain": [
       "           Job Title               Salary Estimate  \\\n",
       "0  Sr Data Scientist  $137K-$171K (Glassdoor est.)   \n",
       "1     Data Scientist  $137K-$171K (Glassdoor est.)   \n",
       "2     Data Scientist  $137K-$171K (Glassdoor est.)   \n",
       "3     Data Scientist  $137K-$171K (Glassdoor est.)   \n",
       "4     Data Scientist  $137K-$171K (Glassdoor est.)   \n",
       "\n",
       "                                     Job Description  Rating  \\\n",
       "0  Description\\n\\nThe Senior Data Scientist is re...     3.1   \n",
       "1  Secure our Nation, Ignite your Future\\n\\nJoin ...     4.2   \n",
       "2  Overview\\n\\n\\nAnalysis Group is one of the lar...     3.8   \n",
       "3  JOB DESCRIPTION:\\n\\nDo you have a passion for ...     3.5   \n",
       "4  Data Scientist\\nAffinity Solutions / Marketing...     2.9   \n",
       "\n",
       "         Company Name       Location            Headquarters           Size  \\\n",
       "0         Healthfirst   New York, NY            New York, NY   1001 to 5000   \n",
       "1             ManTech  Chantilly, VA             Herndon, VA  5001 to 10000   \n",
       "2      Analysis Group     Boston, MA              Boston, MA   1001 to 5000   \n",
       "3             INFICON     Newton, MA  Bad Ragaz, Switzerland    501 to 1000   \n",
       "4  Affinity Solutions   New York, NY            New York, NY      51 to 200   \n",
       "\n",
       "   Founded        Type of ownership  ... Age of Company Job State  \\\n",
       "0     1993   Nonprofit Organization  ...             30        NY   \n",
       "1     1968         Company - Public  ...             55        VA   \n",
       "2     1981  Private Practice / Firm  ...             42        MA   \n",
       "3     2000         Company - Public  ...             23        MA   \n",
       "4     1998        Company - Private  ...             25        NY   \n",
       "\n",
       "  Job Title Transformed Python  Excel  Tableau  Power Bi  Aws Sql Spark  \n",
       "0        Data Scientist      0      0        0         0    1   0     0  \n",
       "1        Data Scientist      0      0        0         0    0   1     0  \n",
       "2        Data Scientist      1      1        0         0    1   0     0  \n",
       "3        Data Scientist      1      1        0         0    1   1     0  \n",
       "4        Data Scientist      1      1        0         0    0   1     0  \n",
       "\n",
       "[5 rows x 27 columns]"
      ]
     },
     "execution_count": 49,
     "metadata": {},
     "output_type": "execute_result"
    }
   ],
   "source": [
    "ds_df.head()"
   ]
  },
  {
   "cell_type": "markdown",
   "metadata": {},
   "source": [
    "In this step, we applied various cleaning and transformation operations to specific columns."
   ]
  },
  {
   "cell_type": "markdown",
   "metadata": {},
   "source": [
    "### Step 5: Saving the Cleaned Dataset\n",
    "\n",
    "Let us save the cleaned dataset to a new file for further analysis.  We will save the cleaned dataset to a new CSV file called 'Glassdoor_DS_Jobs_Final.csv'."
   ]
  },
  {
   "cell_type": "code",
   "execution_count": 50,
   "metadata": {},
   "outputs": [],
   "source": [
    "ds_df.to_csv('data files/Glassdoor_DS_Jobs_Final.csv', index=False)"
   ]
  },
  {
   "cell_type": "markdown",
   "metadata": {},
   "source": [
    "Congratulations! You have successfully completed the data cleaning process for the \"Data Science Job Postings\" dataset. The cleaned dataset can now be used for further analysis and visualization.\n",
    "\n",
    "Remember that data cleaning is an iterative process, and you can apply additional cleaning techniques based on the specific requirements of your analysis."
   ]
  },
  {
   "cell_type": "markdown",
   "metadata": {},
   "source": [
    "### Step 6: Load the Cleaned Dataset \n",
    "\n",
    "Let us load the cleaned dataset so we can perform simple visualizations to showcase our data engineering efforts.  Instead of loading the original data file, now we can load the cleaned data set we saved in the previous step."
   ]
  },
  {
   "cell_type": "code",
   "execution_count": 51,
   "metadata": {},
   "outputs": [],
   "source": [
    "ds_vis_df = pd.read_csv('data files/Glassdoor_DS_Jobs_Final.csv')"
   ]
  },
  {
   "cell_type": "markdown",
   "metadata": {},
   "source": [
    "Confirm the data set looks like the one we just saved by checking the first few rows."
   ]
  },
  {
   "cell_type": "code",
   "execution_count": 52,
   "metadata": {},
   "outputs": [
    {
     "data": {
      "text/html": [
       "<div>\n",
       "<style scoped>\n",
       "    .dataframe tbody tr th:only-of-type {\n",
       "        vertical-align: middle;\n",
       "    }\n",
       "\n",
       "    .dataframe tbody tr th {\n",
       "        vertical-align: top;\n",
       "    }\n",
       "\n",
       "    .dataframe thead th {\n",
       "        text-align: right;\n",
       "    }\n",
       "</style>\n",
       "<table border=\"1\" class=\"dataframe\">\n",
       "  <thead>\n",
       "    <tr style=\"text-align: right;\">\n",
       "      <th></th>\n",
       "      <th>Job Title</th>\n",
       "      <th>Salary Estimate</th>\n",
       "      <th>Job Description</th>\n",
       "      <th>Rating</th>\n",
       "      <th>Company Name</th>\n",
       "      <th>Location</th>\n",
       "      <th>Headquarters</th>\n",
       "      <th>Size</th>\n",
       "      <th>Founded</th>\n",
       "      <th>Type of ownership</th>\n",
       "      <th>...</th>\n",
       "      <th>Age of Company</th>\n",
       "      <th>Job State</th>\n",
       "      <th>Job Title Transformed</th>\n",
       "      <th>Python</th>\n",
       "      <th>Excel</th>\n",
       "      <th>Tableau</th>\n",
       "      <th>Power Bi</th>\n",
       "      <th>Aws</th>\n",
       "      <th>Sql</th>\n",
       "      <th>Spark</th>\n",
       "    </tr>\n",
       "  </thead>\n",
       "  <tbody>\n",
       "    <tr>\n",
       "      <th>0</th>\n",
       "      <td>Sr Data Scientist</td>\n",
       "      <td>$137K-$171K (Glassdoor est.)</td>\n",
       "      <td>Description\\n\\nThe Senior Data Scientist is re...</td>\n",
       "      <td>3.1</td>\n",
       "      <td>Healthfirst</td>\n",
       "      <td>New York, NY</td>\n",
       "      <td>New York, NY</td>\n",
       "      <td>1001 to 5000</td>\n",
       "      <td>1993</td>\n",
       "      <td>Nonprofit Organization</td>\n",
       "      <td>...</td>\n",
       "      <td>30</td>\n",
       "      <td>NY</td>\n",
       "      <td>Data Scientist</td>\n",
       "      <td>0</td>\n",
       "      <td>0</td>\n",
       "      <td>0</td>\n",
       "      <td>0</td>\n",
       "      <td>1</td>\n",
       "      <td>0</td>\n",
       "      <td>0</td>\n",
       "    </tr>\n",
       "    <tr>\n",
       "      <th>1</th>\n",
       "      <td>Data Scientist</td>\n",
       "      <td>$137K-$171K (Glassdoor est.)</td>\n",
       "      <td>Secure our Nation, Ignite your Future\\n\\nJoin ...</td>\n",
       "      <td>4.2</td>\n",
       "      <td>ManTech</td>\n",
       "      <td>Chantilly, VA</td>\n",
       "      <td>Herndon, VA</td>\n",
       "      <td>5001 to 10000</td>\n",
       "      <td>1968</td>\n",
       "      <td>Company - Public</td>\n",
       "      <td>...</td>\n",
       "      <td>55</td>\n",
       "      <td>VA</td>\n",
       "      <td>Data Scientist</td>\n",
       "      <td>0</td>\n",
       "      <td>0</td>\n",
       "      <td>0</td>\n",
       "      <td>0</td>\n",
       "      <td>0</td>\n",
       "      <td>1</td>\n",
       "      <td>0</td>\n",
       "    </tr>\n",
       "    <tr>\n",
       "      <th>2</th>\n",
       "      <td>Data Scientist</td>\n",
       "      <td>$137K-$171K (Glassdoor est.)</td>\n",
       "      <td>Overview\\n\\n\\nAnalysis Group is one of the lar...</td>\n",
       "      <td>3.8</td>\n",
       "      <td>Analysis Group</td>\n",
       "      <td>Boston, MA</td>\n",
       "      <td>Boston, MA</td>\n",
       "      <td>1001 to 5000</td>\n",
       "      <td>1981</td>\n",
       "      <td>Private Practice / Firm</td>\n",
       "      <td>...</td>\n",
       "      <td>42</td>\n",
       "      <td>MA</td>\n",
       "      <td>Data Scientist</td>\n",
       "      <td>1</td>\n",
       "      <td>1</td>\n",
       "      <td>0</td>\n",
       "      <td>0</td>\n",
       "      <td>1</td>\n",
       "      <td>0</td>\n",
       "      <td>0</td>\n",
       "    </tr>\n",
       "    <tr>\n",
       "      <th>3</th>\n",
       "      <td>Data Scientist</td>\n",
       "      <td>$137K-$171K (Glassdoor est.)</td>\n",
       "      <td>JOB DESCRIPTION:\\n\\nDo you have a passion for ...</td>\n",
       "      <td>3.5</td>\n",
       "      <td>INFICON</td>\n",
       "      <td>Newton, MA</td>\n",
       "      <td>Bad Ragaz, Switzerland</td>\n",
       "      <td>501 to 1000</td>\n",
       "      <td>2000</td>\n",
       "      <td>Company - Public</td>\n",
       "      <td>...</td>\n",
       "      <td>23</td>\n",
       "      <td>MA</td>\n",
       "      <td>Data Scientist</td>\n",
       "      <td>1</td>\n",
       "      <td>1</td>\n",
       "      <td>0</td>\n",
       "      <td>0</td>\n",
       "      <td>1</td>\n",
       "      <td>1</td>\n",
       "      <td>0</td>\n",
       "    </tr>\n",
       "    <tr>\n",
       "      <th>4</th>\n",
       "      <td>Data Scientist</td>\n",
       "      <td>$137K-$171K (Glassdoor est.)</td>\n",
       "      <td>Data Scientist\\nAffinity Solutions / Marketing...</td>\n",
       "      <td>2.9</td>\n",
       "      <td>Affinity Solutions</td>\n",
       "      <td>New York, NY</td>\n",
       "      <td>New York, NY</td>\n",
       "      <td>51 to 200</td>\n",
       "      <td>1998</td>\n",
       "      <td>Company - Private</td>\n",
       "      <td>...</td>\n",
       "      <td>25</td>\n",
       "      <td>NY</td>\n",
       "      <td>Data Scientist</td>\n",
       "      <td>1</td>\n",
       "      <td>1</td>\n",
       "      <td>0</td>\n",
       "      <td>0</td>\n",
       "      <td>0</td>\n",
       "      <td>1</td>\n",
       "      <td>0</td>\n",
       "    </tr>\n",
       "  </tbody>\n",
       "</table>\n",
       "<p>5 rows × 27 columns</p>\n",
       "</div>"
      ],
      "text/plain": [
       "           Job Title               Salary Estimate  \\\n",
       "0  Sr Data Scientist  $137K-$171K (Glassdoor est.)   \n",
       "1     Data Scientist  $137K-$171K (Glassdoor est.)   \n",
       "2     Data Scientist  $137K-$171K (Glassdoor est.)   \n",
       "3     Data Scientist  $137K-$171K (Glassdoor est.)   \n",
       "4     Data Scientist  $137K-$171K (Glassdoor est.)   \n",
       "\n",
       "                                     Job Description  Rating  \\\n",
       "0  Description\\n\\nThe Senior Data Scientist is re...     3.1   \n",
       "1  Secure our Nation, Ignite your Future\\n\\nJoin ...     4.2   \n",
       "2  Overview\\n\\n\\nAnalysis Group is one of the lar...     3.8   \n",
       "3  JOB DESCRIPTION:\\n\\nDo you have a passion for ...     3.5   \n",
       "4  Data Scientist\\nAffinity Solutions / Marketing...     2.9   \n",
       "\n",
       "         Company Name       Location            Headquarters           Size  \\\n",
       "0         Healthfirst   New York, NY            New York, NY   1001 to 5000   \n",
       "1             ManTech  Chantilly, VA             Herndon, VA  5001 to 10000   \n",
       "2      Analysis Group     Boston, MA              Boston, MA   1001 to 5000   \n",
       "3             INFICON     Newton, MA  Bad Ragaz, Switzerland    501 to 1000   \n",
       "4  Affinity Solutions   New York, NY            New York, NY      51 to 200   \n",
       "\n",
       "   Founded        Type of ownership  ... Age of Company Job State  \\\n",
       "0     1993   Nonprofit Organization  ...             30        NY   \n",
       "1     1968         Company - Public  ...             55        VA   \n",
       "2     1981  Private Practice / Firm  ...             42        MA   \n",
       "3     2000         Company - Public  ...             23        MA   \n",
       "4     1998        Company - Private  ...             25        NY   \n",
       "\n",
       "  Job Title Transformed Python  Excel  Tableau  Power Bi  Aws Sql Spark  \n",
       "0        Data Scientist      0      0        0         0    1   0     0  \n",
       "1        Data Scientist      0      0        0         0    0   1     0  \n",
       "2        Data Scientist      1      1        0         0    1   0     0  \n",
       "3        Data Scientist      1      1        0         0    1   1     0  \n",
       "4        Data Scientist      1      1        0         0    0   1     0  \n",
       "\n",
       "[5 rows x 27 columns]"
      ]
     },
     "execution_count": 52,
     "metadata": {},
     "output_type": "execute_result"
    }
   ],
   "source": [
    "ds_vis_df.head()"
   ]
  },
  {
   "cell_type": "markdown",
   "metadata": {},
   "source": [
    "### Step 7: Create some visualizations to summarize the data\n",
    "\n",
    "Let us do some simple visualizations to summarize the data and draw some simple conclusions.  Let's start by importing the libraries we will need to create the visualizations."
   ]
  },
  {
   "cell_type": "code",
   "execution_count": 53,
   "metadata": {},
   "outputs": [],
   "source": [
    "import matplotlib.pyplot as plt\n",
    "import seaborn as sns"
   ]
  },
  {
   "cell_type": "markdown",
   "metadata": {},
   "source": [
    "To start, let us create a simple function to generate a bar plot with to showcase which skills are being called out, based on the boolean columns we created in the last step of the data engineering process."
   ]
  },
  {
   "cell_type": "code",
   "execution_count": 54,
   "metadata": {},
   "outputs": [],
   "source": [
    "def plot_skill_appearances(df, skill_columns):\n",
    "    counts_1 = [len(df.loc[df[column] == 1, column]) for column in skill_columns]\n",
    "    counts_0 = [len(df.loc[df[column] == 0, column]) for column in skill_columns]\n",
    "\n",
    "    x = skill_columns\n",
    "    y1 = counts_1\n",
    "    y2 = counts_0\n",
    "\n",
    "    sns.set()\n",
    "    plt.figure(figsize=(10, 6))\n",
    "    sns.barplot(x=x, y=y1, color='b')\n",
    "    sns.barplot(x=x, y=y2, bottom=y1, color='r')\n",
    "    plt.xlabel('Technical Skill')\n",
    "    plt.ylabel('Skill Appearances')\n",
    "    plt.show()"
   ]
  },
  {
   "cell_type": "markdown",
   "metadata": {},
   "source": [
    "The function plot_skill_appearances takes two parameters: `df` (the DataFrame) and `skill_columns` (a list of skill columns to plot).  Then we call the function on the data frame to show the bar graph with the skills columns we generated earlier."
   ]
  },
  {
   "cell_type": "code",
   "execution_count": 55,
   "metadata": {},
   "outputs": [
    {
     "data": {
      "image/png": "[encoded data removed]",
      "text/plain": [
       "<Figure size 1000x600 with 1 Axes>"
      ]
     },
     "metadata": {},
     "output_type": "display_data"
    }
   ],
   "source": [
    "skills = ['Python', 'Excel', 'Sql', 'Tableau', 'Power Bi', 'Aws', 'Spark']\n",
    "plot_skill_appearances(ds_vis_df, skills)"
   ]
  },
  {
   "cell_type": "markdown",
   "metadata": {},
   "source": [
    "##### What sort of conclusions can you draw from this output?  Feel free to jot some down."
   ]
  },
  {
   "cell_type": "code",
   "execution_count": null,
   "metadata": {},
   "outputs": [],
   "source": []
  },
  {
   "cell_type": "code",
   "execution_count": null,
   "metadata": {},
   "outputs": [],
   "source": []
  },
  {
   "cell_type": "markdown",
   "metadata": {},
   "source": [
    "Next, let us look at how the job titles are distributed in this data set.  We can do a simple pie chart to demonstrate the percentage of each job title."
   ]
  },
  {
   "cell_type": "code",
   "execution_count": 56,
   "metadata": {},
   "outputs": [],
   "source": [
    "def plot_job_title_distribution(df, column):\n",
    "    category_distribution = df[column].value_counts(normalize=True)\n",
    "\n",
    "    plt.figure(figsize=(8, 8))\n",
    "    sns.set()\n",
    "    category_distribution.plot(kind='pie', autopct='%1.1f%%')\n",
    "    plt.title('Job Title Distribution')\n",
    "    plt.ylabel('')\n",
    "    plt.show()"
   ]
  },
  {
   "cell_type": "markdown",
   "metadata": {},
   "source": [
    "The function plot_category_distribution takes two parameters: df (the DataFrame) and column_name (the column containing the job categories to visualize).  Let us call the function and see what the pie chart looks like."
   ]
  },
  {
   "cell_type": "code",
   "execution_count": 57,
   "metadata": {},
   "outputs": [
    {
     "data": {
      "image/png": "[encoded data removed]",
      "text/plain": [
       "<Figure size 800x800 with 1 Axes>"
      ]
     },
     "metadata": {},
     "output_type": "display_data"
    }
   ],
   "source": [
    "plot_job_title_distribution(ds_vis_df, 'Job Title Transformed')"
   ]
  },
  {
   "cell_type": "markdown",
   "metadata": {},
   "source": [
    "#### What kinds of conclusions can be drawn from this?  Feel free to jot them down."
   ]
  },
  {
   "cell_type": "code",
   "execution_count": null,
   "metadata": {},
   "outputs": [],
   "source": []
  },
  {
   "cell_type": "code",
   "execution_count": null,
   "metadata": {},
   "outputs": [],
   "source": []
  },
  {
   "cell_type": "markdown",
   "metadata": {},
   "source": [
    "Next, let us plot the top ten industries that appear in the Glassdoor results."
   ]
  },
  {
   "cell_type": "code",
   "execution_count": 58,
   "metadata": {},
   "outputs": [],
   "source": [
    "def plot_top_industries(df, n=10):\n",
    "    top_industries = df['Industry'].value_counts().nlargest(n).index\n",
    "    data_filtered = df[df['Industry'].isin(top_industries)]\n",
    "\n",
    "    plt.figure(figsize=(12, 6))\n",
    "    sns.countplot(data=data_filtered, y='Industry', order=top_industries)\n",
    "    plt.title(f'Top {n} Industries')\n",
    "    plt.xlabel('Count')\n",
    "    plt.ylabel('Industry')\n",
    "    plt.show()"
   ]
  },
  {
   "cell_type": "markdown",
   "metadata": {},
   "source": [
    "The function `plot_top_industries` takes a DataFrame (df) and an optional parameter n (defaulted to 10) as input.  We can call the function on the dataframe."
   ]
  },
  {
   "cell_type": "code",
   "execution_count": 59,
   "metadata": {},
   "outputs": [
    {
     "data": {
      "image/png": "[encoded data removed]",
      "text/plain": [
       "<Figure size 1200x600 with 1 Axes>"
      ]
     },
     "metadata": {},
     "output_type": "display_data"
    }
   ],
   "source": [
    "plot_top_industries(ds_vis_df)"
   ]
  },
  {
   "cell_type": "markdown",
   "metadata": {},
   "source": [
    "#### What kinds of conclusions can be drawn from this visualization?  Jot some down."
   ]
  },
  {
   "cell_type": "code",
   "execution_count": null,
   "metadata": {},
   "outputs": [],
   "source": []
  },
  {
   "cell_type": "code",
   "execution_count": null,
   "metadata": {},
   "outputs": [],
   "source": []
  },
  {
   "cell_type": "markdown",
   "metadata": {},
   "source": [
    "Next, let us take a look at the salary information and get an idea of the distribution of salaries."
   ]
  },
  {
   "cell_type": "code",
   "execution_count": 60,
   "metadata": {},
   "outputs": [],
   "source": [
    "def plot_salary_distribution(df):\n",
    "    plt.figure(figsize=(10, 6))\n",
    "    sns.histplot(data=df, x='Average Salary', kde=True)\n",
    "    plt.title('Distribution of Salaries')\n",
    "    plt.xlabel('Average Salary')\n",
    "    plt.ylabel('Count')\n",
    "    plt.show()"
   ]
  },
  {
   "cell_type": "markdown",
   "metadata": {},
   "source": [
    "The function plot_salary_distribution takes a DataFrame (df) as input."
   ]
  },
  {
   "cell_type": "code",
   "execution_count": 61,
   "metadata": {},
   "outputs": [
    {
     "data": {
      "image/png": "[encoded data removed]",
      "text/plain": [
       "<Figure size 1000x600 with 1 Axes>"
      ]
     },
     "metadata": {},
     "output_type": "display_data"
    }
   ],
   "source": [
    "plot_salary_distribution(ds_vis_df)"
   ]
  },
  {
   "cell_type": "markdown",
   "metadata": {},
   "source": [
    "#### What sorts of conclusions can be drawn from the visualization above?  Jot down some ideas."
   ]
  },
  {
   "cell_type": "code",
   "execution_count": null,
   "metadata": {},
   "outputs": [],
   "source": []
  },
  {
   "cell_type": "code",
   "execution_count": null,
   "metadata": {},
   "outputs": [],
   "source": []
  },
  {
   "cell_type": "markdown",
   "metadata": {},
   "source": [
    "Next, let us plot the average salary by job title, using the transformed job title column we created earlier in tutorial."
   ]
  },
  {
   "cell_type": "code",
   "execution_count": 62,
   "metadata": {},
   "outputs": [],
   "source": [
    "def plot_average_salary_by_title(df):\n",
    "    filtered_data = df[df['Job Title Transformed'] != 'Unknown Job Title']\n",
    "    sorted_data = filtered_data.sort_values('Average Salary', ascending=False)\n",
    "\n",
    "    plt.figure(figsize=(12, 6))\n",
    "    sns.barplot(data=sorted_data, x='Job Title Transformed', y='Average Salary')\n",
    "    plt.title('Average Salary by Job Title')\n",
    "    plt.xlabel('Job Title')\n",
    "    plt.ylabel('Average Salary')\n",
    "    plt.xticks(rotation=45)\n",
    "    plt.show()"
   ]
  },
  {
   "cell_type": "markdown",
   "metadata": {},
   "source": [
    "The function plot_average_salary_by_title takes a DataFrame (df) as input."
   ]
  },
  {
   "cell_type": "code",
   "execution_count": 63,
   "metadata": {},
   "outputs": [
    {
     "data": {
      "image/png": "[encoded data removed]",
      "text/plain": [
       "<Figure size 1200x600 with 1 Axes>"
      ]
     },
     "metadata": {},
     "output_type": "display_data"
    }
   ],
   "source": [
    "plot_average_salary_by_title(ds_vis_df)"
   ]
  },
  {
   "cell_type": "markdown",
   "metadata": {},
   "source": [
    "#### What sort of conclusions can be drawn from this graph?  Jot some down."
   ]
  },
  {
   "cell_type": "code",
   "execution_count": null,
   "metadata": {},
   "outputs": [],
   "source": []
  },
  {
   "cell_type": "code",
   "execution_count": null,
   "metadata": {},
   "outputs": [],
   "source": []
  },
  {
   "cell_type": "markdown",
   "metadata": {},
   "source": [
    "Finally, let us compare the average salary by the size of the company."
   ]
  },
  {
   "cell_type": "code",
   "execution_count": 64,
   "metadata": {},
   "outputs": [],
   "source": [
    "def plot_average_salary_by_size(data):\n",
    "    plt.figure(figsize=(12, 6))\n",
    "    sns.boxplot(data=data, x='Size', y='Average Salary', order=['1 to 50', '51 to 200', '201 to 500', '501 to 1000', '1001 to 5000', '5001 to 10000', '10000+'])\n",
    "    plt.title('Average Salary by Company Size')\n",
    "    plt.xlabel('Company Size')\n",
    "    plt.ylabel('Average Salary')\n",
    "    plt.xticks(rotation=45)\n",
    "    plt.show()"
   ]
  },
  {
   "cell_type": "markdown",
   "metadata": {},
   "source": [
    "The function plot_average_salary_by_size takes a DataFrame (df) as input."
   ]
  },
  {
   "cell_type": "code",
   "execution_count": 65,
   "metadata": {},
   "outputs": [
    {
     "data": {
      "image/png": "[encoded data removed]",
      "text/plain": [
       "<Figure size 1200x600 with 1 Axes>"
      ]
     },
     "metadata": {},
     "output_type": "display_data"
    }
   ],
   "source": [
    "plot_average_salary_by_size(ds_vis_df)"
   ]
  },
  {
   "cell_type": "markdown",
   "metadata": {},
   "source": [
    "There are unlimited ways to visualize this data and draw conclusions from the data set.  These are just some samples of graphs that can be created using the cleaned up data set.  Take the time to practice some on your own and develop your own analysis!"
   ]
  }
 ],
 "metadata": {
  "kernelspec": {
   "display_name": "Python 3 (ipykernel)",
   "language": "python",
   "name": "python3"
  },
  "language_info": {
   "codemirror_mode": {
    "name": "ipython",
    "version": 3
   },
   "file_extension": ".py",
   "mimetype": "text/x-python",
   "name": "python",
   "nbconvert_exporter": "python",
   "pygments_lexer": "ipython3",
   "version": "3.11.4"
  }
 },
 "nbformat": 4,
 "nbformat_minor": 2
}
